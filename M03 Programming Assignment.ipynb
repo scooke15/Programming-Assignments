{
 "cells": [
  {
   "cell_type": "code",
   "execution_count": 1,
   "id": "8371b64c-df9e-468a-8326-c5deeacaead3",
   "metadata": {},
   "outputs": [],
   "source": [
    "#7.4\n",
    "things = [\"mozzarella\", \"cinderella\",\"salmonella\"]"
   ]
  },
  {
   "cell_type": "code",
   "execution_count": 5,
   "id": "3a2b2325-7659-450a-b767-a25e3e25d44e",
   "metadata": {},
   "outputs": [
    {
     "name": "stdout",
     "output_type": "stream",
     "text": [
      "['MOZZARELLA', 'Cinderella', 'salmonella']\n"
     ]
    }
   ],
   "source": [
    "#7.5\n",
    "things[1] = things[1].capitalize()\n",
    "print(things)\n",
    "#yes when i set things[1] = things[1].capitalize()"
   ]
  },
  {
   "cell_type": "code",
   "execution_count": 6,
   "id": "631ead01-47d3-4f1d-a7b8-c019d827c9b2",
   "metadata": {},
   "outputs": [
    {
     "name": "stdout",
     "output_type": "stream",
     "text": [
      "['MOZZARELLA', 'Cinderella', 'salmonella']\n"
     ]
    }
   ],
   "source": [
    "#7.6\n",
    "things[0] = things[0].upper()\n",
    "print(things)"
   ]
  },
  {
   "cell_type": "code",
   "execution_count": 7,
   "id": "1d042d5c-232e-4e49-a019-69d0483ca5cf",
   "metadata": {},
   "outputs": [
    {
     "data": {
      "text/plain": [
       "['Harry', 'Ron', 'Hermione']"
      ]
     },
     "execution_count": 7,
     "metadata": {},
     "output_type": "execute_result"
    }
   ],
   "source": [
    "#9.1\n",
    "def good():\n",
    "    return ['Harry','Ron','Hermione']\n",
    "\n",
    "good()"
   ]
  },
  {
   "cell_type": "code",
   "execution_count": 35,
   "id": "f4164513-ba8b-4b5c-8f14-37692a30201c",
   "metadata": {},
   "outputs": [
    {
     "name": "stdout",
     "output_type": "stream",
     "text": [
      "5\n"
     ]
    }
   ],
   "source": [
    "#9.2\n",
    "def get_odds():\n",
    "    odds = []\n",
    "    for num in range(1,10,2):\n",
    "        odds.append(num)\n",
    "    return odds\n",
    "get_odds()\n",
    "\n",
    "count = 0\n",
    "for i in get_odds():\n",
    "    count += 1\n",
    "    if count == 3:\n",
    "        print(i)\n",
    "        break"
   ]
  },
  {
   "cell_type": "code",
   "execution_count": null,
   "id": "7706f59c-51eb-42e7-a690-8dc59b2d0174",
   "metadata": {},
   "outputs": [],
   "source": []
  }
 ],
 "metadata": {
  "kernelspec": {
   "display_name": "Python 3 (ipykernel)",
   "language": "python",
   "name": "python3"
  },
  "language_info": {
   "codemirror_mode": {
    "name": "ipython",
    "version": 3
   },
   "file_extension": ".py",
   "mimetype": "text/x-python",
   "name": "python",
   "nbconvert_exporter": "python",
   "pygments_lexer": "ipython3",
   "version": "3.11.7"
  }
 },
 "nbformat": 4,
 "nbformat_minor": 5
}
